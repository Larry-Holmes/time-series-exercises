{
 "cells": [
  {
   "cell_type": "code",
   "execution_count": 1,
   "id": "9f70aaf7-331a-45c0-aa10-a7f0402e93b9",
   "metadata": {},
   "outputs": [],
   "source": [
    "import requests\n",
    "import pandas as pd"
   ]
  },
  {
   "cell_type": "code",
   "execution_count": 2,
   "id": "38134ac0-61fa-4c5a-92e3-7564813cbc4e",
   "metadata": {},
   "outputs": [
    {
     "name": "stdout",
     "output_type": "stream",
     "text": [
      "{\"api\":\"/api/v1\",\"help\":\"/documentation\"}\n",
      "\n"
     ]
    }
   ],
   "source": [
    "base_url = 'https://python.zgulde.net'\n",
    "print(requests.get(base_url).text)"
   ]
  },
  {
   "cell_type": "code",
   "execution_count": 3,
   "id": "d4e9c067-3215-49dc-8c39-93be261530c7",
   "metadata": {},
   "outputs": [],
   "source": [
    "response = requests.get('https://python.zgulde.net/api/v1/items')"
   ]
  },
  {
   "cell_type": "code",
   "execution_count": 4,
   "id": "62637b0e-44c7-487c-93ee-eeda804898c7",
   "metadata": {},
   "outputs": [],
   "source": [
    "data = response.json()"
   ]
  },
  {
   "cell_type": "code",
   "execution_count": 5,
   "id": "9b5e0bcb-9f9a-4a5a-bd83-0a7dedb70e24",
   "metadata": {},
   "outputs": [
    {
     "data": {
      "text/plain": [
       "dict_keys(['payload', 'status'])"
      ]
     },
     "execution_count": 5,
     "metadata": {},
     "output_type": "execute_result"
    }
   ],
   "source": [
    "data.keys()"
   ]
  },
  {
   "cell_type": "code",
   "execution_count": 6,
   "id": "a891e49d-ddf6-4484-8050-586de1fc3e28",
   "metadata": {},
   "outputs": [
    {
     "data": {
      "text/plain": [
       "dict_keys(['items', 'max_page', 'next_page', 'page', 'previous_page'])"
      ]
     },
     "execution_count": 6,
     "metadata": {},
     "output_type": "execute_result"
    }
   ],
   "source": [
    "data['payload'].keys()"
   ]
  },
  {
   "cell_type": "code",
   "execution_count": 7,
   "id": "cb8378df-69e7-4ca8-a650-7855b1f644bd",
   "metadata": {},
   "outputs": [
    {
     "name": "stdout",
     "output_type": "stream",
     "text": [
      "current_page: 1\n",
      "max_page: 3\n",
      "next_page: /api/v1/items?page=2\n"
     ]
    }
   ],
   "source": [
    "current_page = data['payload']['page']\n",
    "max_page = data['payload']['max_page']\n",
    "next_page = data['payload']['next_page']\n",
    "\n",
    "print(f'current_page: {current_page}')\n",
    "print(f'max_page: {max_page}')\n",
    "print(f'next_page: {next_page}')"
   ]
  },
  {
   "cell_type": "code",
   "execution_count": 8,
   "id": "31584d5e-1d49-419e-8b07-d65c06b6f31c",
   "metadata": {},
   "outputs": [
    {
     "data": {
      "text/plain": [
       "[{'item_brand': 'Riceland',\n",
       "  'item_id': 1,\n",
       "  'item_name': 'Riceland American Jazmine Rice',\n",
       "  'item_price': 0.84,\n",
       "  'item_upc12': '35200264013',\n",
       "  'item_upc14': '35200264013'},\n",
       " {'item_brand': 'Caress',\n",
       "  'item_id': 2,\n",
       "  'item_name': 'Caress Velvet Bliss Ultra Silkening Beauty Bar - 6 Ct',\n",
       "  'item_price': 6.44,\n",
       "  'item_upc12': '11111065925',\n",
       "  'item_upc14': '11111065925'}]"
      ]
     },
     "execution_count": 8,
     "metadata": {},
     "output_type": "execute_result"
    }
   ],
   "source": [
    "data['payload']['items'][:2]"
   ]
  },
  {
   "cell_type": "code",
   "execution_count": 9,
   "id": "65629222-f642-4942-901b-fac6d85dd49a",
   "metadata": {},
   "outputs": [
    {
     "data": {
      "text/html": [
       "<div>\n",
       "<style scoped>\n",
       "    .dataframe tbody tr th:only-of-type {\n",
       "        vertical-align: middle;\n",
       "    }\n",
       "\n",
       "    .dataframe tbody tr th {\n",
       "        vertical-align: top;\n",
       "    }\n",
       "\n",
       "    .dataframe thead th {\n",
       "        text-align: right;\n",
       "    }\n",
       "</style>\n",
       "<table border=\"1\" class=\"dataframe\">\n",
       "  <thead>\n",
       "    <tr style=\"text-align: right;\">\n",
       "      <th></th>\n",
       "      <th>item_brand</th>\n",
       "      <th>item_id</th>\n",
       "      <th>item_name</th>\n",
       "      <th>item_price</th>\n",
       "      <th>item_upc12</th>\n",
       "      <th>item_upc14</th>\n",
       "    </tr>\n",
       "  </thead>\n",
       "  <tbody>\n",
       "    <tr>\n",
       "      <th>0</th>\n",
       "      <td>Riceland</td>\n",
       "      <td>1</td>\n",
       "      <td>Riceland American Jazmine Rice</td>\n",
       "      <td>0.84</td>\n",
       "      <td>35200264013</td>\n",
       "      <td>35200264013</td>\n",
       "    </tr>\n",
       "    <tr>\n",
       "      <th>1</th>\n",
       "      <td>Caress</td>\n",
       "      <td>2</td>\n",
       "      <td>Caress Velvet Bliss Ultra Silkening Beauty Bar...</td>\n",
       "      <td>6.44</td>\n",
       "      <td>11111065925</td>\n",
       "      <td>11111065925</td>\n",
       "    </tr>\n",
       "    <tr>\n",
       "      <th>2</th>\n",
       "      <td>Earths Best</td>\n",
       "      <td>3</td>\n",
       "      <td>Earths Best Organic Fruit Yogurt Smoothie Mixe...</td>\n",
       "      <td>2.43</td>\n",
       "      <td>23923330139</td>\n",
       "      <td>23923330139</td>\n",
       "    </tr>\n",
       "    <tr>\n",
       "      <th>3</th>\n",
       "      <td>Boars Head</td>\n",
       "      <td>4</td>\n",
       "      <td>Boars Head Sliced White American Cheese - 120 Ct</td>\n",
       "      <td>3.14</td>\n",
       "      <td>208528800007</td>\n",
       "      <td>208528800007</td>\n",
       "    </tr>\n",
       "    <tr>\n",
       "      <th>4</th>\n",
       "      <td>Back To Nature</td>\n",
       "      <td>5</td>\n",
       "      <td>Back To Nature Gluten Free White Cheddar Rice ...</td>\n",
       "      <td>2.61</td>\n",
       "      <td>759283100036</td>\n",
       "      <td>759283100036</td>\n",
       "    </tr>\n",
       "  </tbody>\n",
       "</table>\n",
       "</div>"
      ],
      "text/plain": [
       "       item_brand  item_id                                          item_name  \\\n",
       "0        Riceland        1                     Riceland American Jazmine Rice   \n",
       "1          Caress        2  Caress Velvet Bliss Ultra Silkening Beauty Bar...   \n",
       "2     Earths Best        3  Earths Best Organic Fruit Yogurt Smoothie Mixe...   \n",
       "3      Boars Head        4   Boars Head Sliced White American Cheese - 120 Ct   \n",
       "4  Back To Nature        5  Back To Nature Gluten Free White Cheddar Rice ...   \n",
       "\n",
       "   item_price    item_upc12    item_upc14  \n",
       "0        0.84   35200264013   35200264013  \n",
       "1        6.44   11111065925   11111065925  \n",
       "2        2.43   23923330139   23923330139  \n",
       "3        3.14  208528800007  208528800007  \n",
       "4        2.61  759283100036  759283100036  "
      ]
     },
     "execution_count": 9,
     "metadata": {},
     "output_type": "execute_result"
    }
   ],
   "source": [
    "df = pd.DataFrame(data['payload']['items'])\n",
    "df.head()"
   ]
  },
  {
   "cell_type": "code",
   "execution_count": 10,
   "id": "38ac6faa-da42-40e3-8326-7ee793dbe30d",
   "metadata": {},
   "outputs": [
    {
     "name": "stdout",
     "output_type": "stream",
     "text": [
      "current_page: 2\n",
      "max_page: 3\n",
      "next_page: /api/v1/items?page=3\n"
     ]
    }
   ],
   "source": [
    "response = requests.get(base_url + data['payload']['next_page'])\n",
    "data = response.json()\n",
    "\n",
    "current_page = data['payload']['page']\n",
    "max_page = data['payload']['max_page']\n",
    "next_page = data['payload']['next_page']\n",
    "\n",
    "print(f'current_page: {current_page}')\n",
    "print(f'max_page: {max_page}')\n",
    "print(f'next_page: {next_page}')\n",
    "\n",
    "df = pd.concat([df, pd.DataFrame(data['payload']['items'])]).reset_index()"
   ]
  },
  {
   "cell_type": "code",
   "execution_count": 11,
   "id": "03986457-2e02-4451-bfdc-84fe3c5fc37a",
   "metadata": {},
   "outputs": [
    {
     "name": "stdout",
     "output_type": "stream",
     "text": [
      "current_page: 3\n",
      "max_page: 3\n",
      "next_page: None\n"
     ]
    }
   ],
   "source": [
    "response = requests.get(base_url + data['payload']['next_page'])\n",
    "data = response.json()\n",
    "\n",
    "current_page = data['payload']['page']\n",
    "max_page = data['payload']['max_page']\n",
    "next_page = data['payload']['next_page']\n",
    "\n",
    "print(f'current_page: {current_page}')\n",
    "print(f'max_page: {max_page}')\n",
    "print(f'next_page: {next_page}')\n",
    "\n",
    "df = pd.concat([df, pd.DataFrame(data['payload']['items'])]).reset_index()\n"
   ]
  },
  {
   "cell_type": "code",
   "execution_count": 12,
   "id": "af1a782e-7e1c-40b5-82be-d58f3bd5c734",
   "metadata": {},
   "outputs": [
    {
     "data": {
      "text/plain": [
       "(50, 8)"
      ]
     },
     "execution_count": 12,
     "metadata": {},
     "output_type": "execute_result"
    }
   ],
   "source": [
    "df.shape"
   ]
  },
  {
   "cell_type": "code",
   "execution_count": 13,
   "id": "28238c72-0a22-4829-95e4-02f40e21ebb7",
   "metadata": {},
   "outputs": [],
   "source": [
    "items = df"
   ]
  },
  {
   "cell_type": "code",
   "execution_count": null,
   "id": "a906a301-7728-42fa-b8e2-ec3bb0cc4c2c",
   "metadata": {},
   "outputs": [],
   "source": []
  },
  {
   "cell_type": "code",
   "execution_count": 14,
   "id": "3eb960ca-89d3-48e3-85c8-d036c457ebaf",
   "metadata": {},
   "outputs": [],
   "source": [
    "response = requests.get('https://python.zgulde.net/api/v1/stores')"
   ]
  },
  {
   "cell_type": "code",
   "execution_count": 15,
   "id": "75b72890-442a-44ce-bf2e-c02a6e226ff9",
   "metadata": {},
   "outputs": [],
   "source": [
    "data = response.json()"
   ]
  },
  {
   "cell_type": "code",
   "execution_count": 16,
   "id": "0ed43c3c-cc63-45f8-b800-2d6d791856f1",
   "metadata": {},
   "outputs": [
    {
     "data": {
      "text/plain": [
       "dict_keys(['payload', 'status'])"
      ]
     },
     "execution_count": 16,
     "metadata": {},
     "output_type": "execute_result"
    }
   ],
   "source": [
    "data.keys()"
   ]
  },
  {
   "cell_type": "code",
   "execution_count": 17,
   "id": "dc2f142d-a0c3-4cdd-838c-30a98193ade7",
   "metadata": {},
   "outputs": [
    {
     "data": {
      "text/plain": [
       "dict_keys(['max_page', 'next_page', 'page', 'previous_page', 'stores'])"
      ]
     },
     "execution_count": 17,
     "metadata": {},
     "output_type": "execute_result"
    }
   ],
   "source": [
    "data['payload'].keys()"
   ]
  },
  {
   "cell_type": "code",
   "execution_count": 18,
   "id": "d76874a6-ad88-41b0-a8e7-22ba2622369b",
   "metadata": {},
   "outputs": [
    {
     "name": "stdout",
     "output_type": "stream",
     "text": [
      "current_page: 1\n",
      "max_page: 1\n",
      "next_page: None\n"
     ]
    }
   ],
   "source": [
    "current_page = data['payload']['page']\n",
    "max_page = data['payload']['max_page']\n",
    "next_page = data['payload']['next_page']\n",
    "\n",
    "print(f'current_page: {current_page}')\n",
    "print(f'max_page: {max_page}')\n",
    "print(f'next_page: {next_page}')"
   ]
  },
  {
   "cell_type": "code",
   "execution_count": 19,
   "id": "880554b4-3305-482b-a28d-21f12a9b22cc",
   "metadata": {},
   "outputs": [],
   "source": [
    "stores = pd.DataFrame(data['payload']['stores'])"
   ]
  },
  {
   "cell_type": "code",
   "execution_count": 20,
   "id": "de43d548-94ee-4420-a23f-37be9a6dde3f",
   "metadata": {},
   "outputs": [
    {
     "data": {
      "text/plain": [
       "(10, 5)"
      ]
     },
     "execution_count": 20,
     "metadata": {},
     "output_type": "execute_result"
    }
   ],
   "source": [
    "stores.shape"
   ]
  },
  {
   "cell_type": "code",
   "execution_count": 21,
   "id": "72366169-2b83-428b-9fcc-733d7456b36e",
   "metadata": {},
   "outputs": [],
   "source": [
    "response = requests.get('https://python.zgulde.net/api/v1/sales')"
   ]
  },
  {
   "cell_type": "code",
   "execution_count": 22,
   "id": "03307e97-2231-47b3-8d21-d90ab4577c0f",
   "metadata": {},
   "outputs": [],
   "source": [
    "data = response.json()"
   ]
  },
  {
   "cell_type": "code",
   "execution_count": 23,
   "id": "a3393ce2-3053-4eeb-a667-13b25b6769f1",
   "metadata": {},
   "outputs": [
    {
     "data": {
      "text/plain": [
       "dict_keys(['payload', 'status'])"
      ]
     },
     "execution_count": 23,
     "metadata": {},
     "output_type": "execute_result"
    }
   ],
   "source": [
    "data.keys()"
   ]
  },
  {
   "cell_type": "code",
   "execution_count": 24,
   "id": "2a5d14de-3efe-435f-986e-74699020803e",
   "metadata": {},
   "outputs": [
    {
     "data": {
      "text/plain": [
       "dict_keys(['max_page', 'next_page', 'page', 'previous_page', 'sales'])"
      ]
     },
     "execution_count": 24,
     "metadata": {},
     "output_type": "execute_result"
    }
   ],
   "source": [
    "data['payload'].keys()"
   ]
  },
  {
   "cell_type": "code",
   "execution_count": 25,
   "id": "16557dc5-0576-4a5c-83b0-f0c60c1eca20",
   "metadata": {},
   "outputs": [
    {
     "name": "stdout",
     "output_type": "stream",
     "text": [
      "current_page: 1\n",
      "max_page: 183\n",
      "next_page: /api/v1/sales?page=2\n"
     ]
    }
   ],
   "source": [
    "current_page = data['payload']['page']\n",
    "max_page = data['payload']['max_page']\n",
    "next_page = data['payload']['next_page']\n",
    "\n",
    "print(f'current_page: {current_page}')\n",
    "print(f'max_page: {max_page}')\n",
    "print(f'next_page: {next_page}')"
   ]
  },
  {
   "cell_type": "code",
   "execution_count": 75,
   "id": "6405d969-8379-43a6-8223-27b55255adca",
   "metadata": {},
   "outputs": [
    {
     "data": {
      "text/html": [
       "<div>\n",
       "<style scoped>\n",
       "    .dataframe tbody tr th:only-of-type {\n",
       "        vertical-align: middle;\n",
       "    }\n",
       "\n",
       "    .dataframe tbody tr th {\n",
       "        vertical-align: top;\n",
       "    }\n",
       "\n",
       "    .dataframe thead th {\n",
       "        text-align: right;\n",
       "    }\n",
       "</style>\n",
       "<table border=\"1\" class=\"dataframe\">\n",
       "  <thead>\n",
       "    <tr style=\"text-align: right;\">\n",
       "      <th></th>\n",
       "      <th>item</th>\n",
       "      <th>sale_amount</th>\n",
       "      <th>sale_date</th>\n",
       "      <th>sale_id</th>\n",
       "      <th>store</th>\n",
       "    </tr>\n",
       "  </thead>\n",
       "  <tbody>\n",
       "    <tr>\n",
       "      <th>0</th>\n",
       "      <td>50</td>\n",
       "      <td>77.0</td>\n",
       "      <td>Wed, 15 Oct 2014 00:00:00 GMT</td>\n",
       "      <td>910001</td>\n",
       "      <td>9</td>\n",
       "    </tr>\n",
       "    <tr>\n",
       "      <th>1</th>\n",
       "      <td>50</td>\n",
       "      <td>52.0</td>\n",
       "      <td>Thu, 16 Oct 2014 00:00:00 GMT</td>\n",
       "      <td>910002</td>\n",
       "      <td>9</td>\n",
       "    </tr>\n",
       "    <tr>\n",
       "      <th>2</th>\n",
       "      <td>50</td>\n",
       "      <td>65.0</td>\n",
       "      <td>Fri, 17 Oct 2014 00:00:00 GMT</td>\n",
       "      <td>910003</td>\n",
       "      <td>9</td>\n",
       "    </tr>\n",
       "    <tr>\n",
       "      <th>3</th>\n",
       "      <td>50</td>\n",
       "      <td>66.0</td>\n",
       "      <td>Sat, 18 Oct 2014 00:00:00 GMT</td>\n",
       "      <td>910004</td>\n",
       "      <td>9</td>\n",
       "    </tr>\n",
       "    <tr>\n",
       "      <th>4</th>\n",
       "      <td>50</td>\n",
       "      <td>81.0</td>\n",
       "      <td>Sun, 19 Oct 2014 00:00:00 GMT</td>\n",
       "      <td>910005</td>\n",
       "      <td>9</td>\n",
       "    </tr>\n",
       "  </tbody>\n",
       "</table>\n",
       "</div>"
      ],
      "text/plain": [
       "   item  sale_amount                      sale_date  sale_id  store\n",
       "0    50         77.0  Wed, 15 Oct 2014 00:00:00 GMT   910001      9\n",
       "1    50         52.0  Thu, 16 Oct 2014 00:00:00 GMT   910002      9\n",
       "2    50         65.0  Fri, 17 Oct 2014 00:00:00 GMT   910003      9\n",
       "3    50         66.0  Sat, 18 Oct 2014 00:00:00 GMT   910004      9\n",
       "4    50         81.0  Sun, 19 Oct 2014 00:00:00 GMT   910005      9"
      ]
     },
     "execution_count": 75,
     "metadata": {},
     "output_type": "execute_result"
    }
   ],
   "source": [
    "df = pd.DataFrame(data['payload']['sales'])\n",
    "df.head()"
   ]
  },
  {
   "cell_type": "code",
   "execution_count": 76,
   "id": "8bc84249-ebf0-4ddf-87a3-87b13d04f11e",
   "metadata": {},
   "outputs": [
    {
     "data": {
      "text/plain": [
       "(3000, 5)"
      ]
     },
     "execution_count": 76,
     "metadata": {},
     "output_type": "execute_result"
    }
   ],
   "source": [
    "df.shape"
   ]
  },
  {
   "cell_type": "code",
   "execution_count": 77,
   "id": "8e124e97-74a9-4390-81a6-f6c8359d4a97",
   "metadata": {},
   "outputs": [],
   "source": [
    "for i in range(1,184):\n",
    "    point = f'/api/v1/sales?page={i}'\n",
    "    response = requests.get(base_url + point)\n",
    "    data = response.json()\n",
    "\n",
    "    current_page = data['payload']['page']\n",
    "    max_page = data['payload']['max_page']\n",
    "    next_page = data['payload']['next_page']\n",
    "    \n",
    "\n",
    "    df = pd.concat([df, pd.DataFrame(data['payload']['sales'])])"
   ]
  },
  {
   "cell_type": "code",
   "execution_count": null,
   "id": "8c764abd-a94d-4f46-a2c1-09d9646fcdbb",
   "metadata": {},
   "outputs": [],
   "source": [
    "for i in range(1,184):\n",
    "    endpoint = str(i)\n",
    "    response = requests.get(\n",
    "        base_url+endpoint).json()['payload']['sales']\n",
    "    print(f'Getting page {endpoint} of 183', end='')\n",
    "    sales.extend(response)"
   ]
  },
  {
   "cell_type": "code",
   "execution_count": 78,
   "id": "b9c692b2-180b-44b2-95cc-536f6576b708",
   "metadata": {},
   "outputs": [
    {
     "data": {
      "text/plain": [
       "(916000, 5)"
      ]
     },
     "execution_count": 78,
     "metadata": {},
     "output_type": "execute_result"
    }
   ],
   "source": [
    "df.shape"
   ]
  },
  {
   "cell_type": "code",
   "execution_count": 79,
   "id": "75baf941-2a96-4eb6-b1d3-b76d32ac3fcc",
   "metadata": {},
   "outputs": [],
   "source": [
    "sales = df"
   ]
  },
  {
   "cell_type": "code",
   "execution_count": 80,
   "id": "75983d68-abc3-4084-9402-1b2f8c3d74c3",
   "metadata": {},
   "outputs": [
    {
     "data": {
      "text/plain": [
       "50"
      ]
     },
     "execution_count": 80,
     "metadata": {},
     "output_type": "execute_result"
    }
   ],
   "source": [
    "sales.item.nunique()"
   ]
  },
  {
   "cell_type": "code",
   "execution_count": 83,
   "id": "dbfdb430-3a04-468b-9678-d81697f14e07",
   "metadata": {},
   "outputs": [
    {
     "data": {
      "text/plain": [
       "50    21260\n",
       "37    18260\n",
       "27    18260\n",
       "28    18260\n",
       "29    18260\n",
       "30    18260\n",
       "31    18260\n",
       "32    18260\n",
       "33    18260\n",
       "34    18260\n",
       "35    18260\n",
       "36    18260\n",
       "38    18260\n",
       "1     18260\n",
       "39    18260\n",
       "40    18260\n",
       "41    18260\n",
       "42    18260\n",
       "43    18260\n",
       "44    18260\n",
       "45    18260\n",
       "46    18260\n",
       "47    18260\n",
       "48    18260\n",
       "26    18260\n",
       "25    18260\n",
       "24    18260\n",
       "23    18260\n",
       "2     18260\n",
       "3     18260\n",
       "4     18260\n",
       "5     18260\n",
       "6     18260\n",
       "7     18260\n",
       "8     18260\n",
       "9     18260\n",
       "10    18260\n",
       "11    18260\n",
       "12    18260\n",
       "13    18260\n",
       "14    18260\n",
       "15    18260\n",
       "16    18260\n",
       "17    18260\n",
       "18    18260\n",
       "19    18260\n",
       "20    18260\n",
       "21    18260\n",
       "22    18260\n",
       "49    18260\n",
       "Name: item, dtype: int64"
      ]
     },
     "execution_count": 83,
     "metadata": {},
     "output_type": "execute_result"
    }
   ],
   "source": [
    "sales.item.value_counts()"
   ]
  },
  {
   "cell_type": "code",
   "execution_count": 81,
   "id": "fbb75b67-f065-4353-a2a6-c3b176b52044",
   "metadata": {
    "tags": []
   },
   "outputs": [],
   "source": [
    "items.to_csv('items_csv')\n",
    "stores.to_csv('stores_csv')\n",
    "sales.to_csv('sales_csv')"
   ]
  },
  {
   "cell_type": "code",
   "execution_count": 82,
   "id": "7344f9e0-579c-4316-8166-654d45869731",
   "metadata": {},
   "outputs": [
    {
     "name": "stdout",
     "output_type": "stream",
     "text": [
      "(50, 8)\n",
      "(10, 6)\n",
      "(916000, 5)\n"
     ]
    }
   ],
   "source": [
    "print(items.shape)\n",
    "print(stores.shape)\n",
    "print(sales.shape)"
   ]
  },
  {
   "cell_type": "code",
   "execution_count": null,
   "id": "1a4ca316-02a5-4e1a-9139-0ffe3d00cb99",
   "metadata": {},
   "outputs": [],
   "source": [
    "sales = sales.rename(columns={'item': 'item_id', 'store': 'store_id'})"
   ]
  },
  {
   "cell_type": "code",
   "execution_count": 68,
   "id": "0f139d59-3213-49c0-afaf-e8c18ebb9870",
   "metadata": {},
   "outputs": [],
   "source": [
    "df = pd.merge(sales, items, how='left', on='item_id')"
   ]
  },
  {
   "cell_type": "code",
   "execution_count": null,
   "id": "1161e3af-3b97-43fa-9acc-720acfa92fbb",
   "metadata": {},
   "outputs": [],
   "source": [
    "df = pd.merge(df, stores, how='left', on='store_id')"
   ]
  },
  {
   "cell_type": "code",
   "execution_count": null,
   "id": "e543568a-6256-4ac7-afc6-9c2befde60a6",
   "metadata": {},
   "outputs": [],
   "source": []
  },
  {
   "cell_type": "code",
   "execution_count": null,
   "id": "4dd0ed53-9290-456b-8782-c424ba17d08b",
   "metadata": {},
   "outputs": [],
   "source": []
  },
  {
   "cell_type": "code",
   "execution_count": null,
   "id": "893db46f-3080-44c4-a520-f9b7faa6a8d9",
   "metadata": {},
   "outputs": [],
   "source": []
  },
  {
   "cell_type": "code",
   "execution_count": null,
   "id": "71c35689-7ed0-4490-9dbb-ab812c8a3f54",
   "metadata": {},
   "outputs": [],
   "source": []
  },
  {
   "cell_type": "code",
   "execution_count": 51,
   "id": "b41bc2c7-95db-4218-b475-1d649da33e56",
   "metadata": {},
   "outputs": [],
   "source": [
    "sales = sales.reset_index()"
   ]
  },
  {
   "cell_type": "code",
   "execution_count": 55,
   "id": "3d2de928-19f0-4536-9c3e-9ffe0c4e4224",
   "metadata": {},
   "outputs": [
    {
     "data": {
      "text/html": [
       "<div>\n",
       "<style scoped>\n",
       "    .dataframe tbody tr th:only-of-type {\n",
       "        vertical-align: middle;\n",
       "    }\n",
       "\n",
       "    .dataframe tbody tr th {\n",
       "        vertical-align: top;\n",
       "    }\n",
       "\n",
       "    .dataframe thead th {\n",
       "        text-align: right;\n",
       "    }\n",
       "</style>\n",
       "<table border=\"1\" class=\"dataframe\">\n",
       "  <thead>\n",
       "    <tr style=\"text-align: right;\">\n",
       "      <th></th>\n",
       "      <th>index</th>\n",
       "      <th>store_address</th>\n",
       "      <th>store_city</th>\n",
       "      <th>store_id</th>\n",
       "      <th>store_state</th>\n",
       "      <th>store_zipcode</th>\n",
       "    </tr>\n",
       "  </thead>\n",
       "  <tbody>\n",
       "    <tr>\n",
       "      <th>0</th>\n",
       "      <td>0</td>\n",
       "      <td>12125 Alamo Ranch Pkwy</td>\n",
       "      <td>San Antonio</td>\n",
       "      <td>1</td>\n",
       "      <td>TX</td>\n",
       "      <td>78253</td>\n",
       "    </tr>\n",
       "    <tr>\n",
       "      <th>1</th>\n",
       "      <td>1</td>\n",
       "      <td>9255 FM 471 West</td>\n",
       "      <td>San Antonio</td>\n",
       "      <td>2</td>\n",
       "      <td>TX</td>\n",
       "      <td>78251</td>\n",
       "    </tr>\n",
       "    <tr>\n",
       "      <th>2</th>\n",
       "      <td>2</td>\n",
       "      <td>2118 Fredericksburg Rdj</td>\n",
       "      <td>San Antonio</td>\n",
       "      <td>3</td>\n",
       "      <td>TX</td>\n",
       "      <td>78201</td>\n",
       "    </tr>\n",
       "    <tr>\n",
       "      <th>3</th>\n",
       "      <td>3</td>\n",
       "      <td>516 S Flores St</td>\n",
       "      <td>San Antonio</td>\n",
       "      <td>4</td>\n",
       "      <td>TX</td>\n",
       "      <td>78204</td>\n",
       "    </tr>\n",
       "    <tr>\n",
       "      <th>4</th>\n",
       "      <td>4</td>\n",
       "      <td>1520 Austin Hwy</td>\n",
       "      <td>San Antonio</td>\n",
       "      <td>5</td>\n",
       "      <td>TX</td>\n",
       "      <td>78218</td>\n",
       "    </tr>\n",
       "  </tbody>\n",
       "</table>\n",
       "</div>"
      ],
      "text/plain": [
       "   index            store_address   store_city  store_id store_state  \\\n",
       "0      0   12125 Alamo Ranch Pkwy  San Antonio         1          TX   \n",
       "1      1         9255 FM 471 West  San Antonio         2          TX   \n",
       "2      2  2118 Fredericksburg Rdj  San Antonio         3          TX   \n",
       "3      3          516 S Flores St  San Antonio         4          TX   \n",
       "4      4          1520 Austin Hwy  San Antonio         5          TX   \n",
       "\n",
       "  store_zipcode  \n",
       "0         78253  \n",
       "1         78251  \n",
       "2         78201  \n",
       "3         78204  \n",
       "4         78218  "
      ]
     },
     "execution_count": 55,
     "metadata": {},
     "output_type": "execute_result"
    }
   ],
   "source": [
    "stores.head()"
   ]
  },
  {
   "cell_type": "code",
   "execution_count": 63,
   "id": "ae29f91d-9662-4aca-a4d5-6cd0859eed9d",
   "metadata": {},
   "outputs": [],
   "source": [
    "items['index'] = items.index.astype('int')"
   ]
  },
  {
   "cell_type": "code",
   "execution_count": 65,
   "id": "065f30e3-f777-42b6-89aa-555a80eff767",
   "metadata": {},
   "outputs": [
    {
     "data": {
      "text/html": [
       "<div>\n",
       "<style scoped>\n",
       "    .dataframe tbody tr th:only-of-type {\n",
       "        vertical-align: middle;\n",
       "    }\n",
       "\n",
       "    .dataframe tbody tr th {\n",
       "        vertical-align: top;\n",
       "    }\n",
       "\n",
       "    .dataframe thead th {\n",
       "        text-align: right;\n",
       "    }\n",
       "</style>\n",
       "<table border=\"1\" class=\"dataframe\">\n",
       "  <thead>\n",
       "    <tr style=\"text-align: right;\">\n",
       "      <th></th>\n",
       "      <th>level_0</th>\n",
       "      <th>index</th>\n",
       "      <th>item_brand</th>\n",
       "      <th>item_id</th>\n",
       "      <th>item_name</th>\n",
       "      <th>item_price</th>\n",
       "      <th>item_upc12</th>\n",
       "      <th>item_upc14</th>\n",
       "    </tr>\n",
       "  </thead>\n",
       "  <tbody>\n",
       "    <tr>\n",
       "      <th>0</th>\n",
       "      <td>0</td>\n",
       "      <td>0</td>\n",
       "      <td>Riceland</td>\n",
       "      <td>1</td>\n",
       "      <td>Riceland American Jazmine Rice</td>\n",
       "      <td>0.84</td>\n",
       "      <td>35200264013</td>\n",
       "      <td>35200264013</td>\n",
       "    </tr>\n",
       "    <tr>\n",
       "      <th>1</th>\n",
       "      <td>1</td>\n",
       "      <td>1</td>\n",
       "      <td>Caress</td>\n",
       "      <td>2</td>\n",
       "      <td>Caress Velvet Bliss Ultra Silkening Beauty Bar...</td>\n",
       "      <td>6.44</td>\n",
       "      <td>11111065925</td>\n",
       "      <td>11111065925</td>\n",
       "    </tr>\n",
       "    <tr>\n",
       "      <th>2</th>\n",
       "      <td>2</td>\n",
       "      <td>2</td>\n",
       "      <td>Earths Best</td>\n",
       "      <td>3</td>\n",
       "      <td>Earths Best Organic Fruit Yogurt Smoothie Mixe...</td>\n",
       "      <td>2.43</td>\n",
       "      <td>23923330139</td>\n",
       "      <td>23923330139</td>\n",
       "    </tr>\n",
       "    <tr>\n",
       "      <th>3</th>\n",
       "      <td>3</td>\n",
       "      <td>3</td>\n",
       "      <td>Boars Head</td>\n",
       "      <td>4</td>\n",
       "      <td>Boars Head Sliced White American Cheese - 120 Ct</td>\n",
       "      <td>3.14</td>\n",
       "      <td>208528800007</td>\n",
       "      <td>208528800007</td>\n",
       "    </tr>\n",
       "    <tr>\n",
       "      <th>4</th>\n",
       "      <td>4</td>\n",
       "      <td>4</td>\n",
       "      <td>Back To Nature</td>\n",
       "      <td>5</td>\n",
       "      <td>Back To Nature Gluten Free White Cheddar Rice ...</td>\n",
       "      <td>2.61</td>\n",
       "      <td>759283100036</td>\n",
       "      <td>759283100036</td>\n",
       "    </tr>\n",
       "  </tbody>\n",
       "</table>\n",
       "</div>"
      ],
      "text/plain": [
       "   level_0  index      item_brand  item_id  \\\n",
       "0        0      0        Riceland        1   \n",
       "1        1      1          Caress        2   \n",
       "2        2      2     Earths Best        3   \n",
       "3        3      3      Boars Head        4   \n",
       "4        4      4  Back To Nature        5   \n",
       "\n",
       "                                           item_name  item_price  \\\n",
       "0                     Riceland American Jazmine Rice        0.84   \n",
       "1  Caress Velvet Bliss Ultra Silkening Beauty Bar...        6.44   \n",
       "2  Earths Best Organic Fruit Yogurt Smoothie Mixe...        2.43   \n",
       "3   Boars Head Sliced White American Cheese - 120 Ct        3.14   \n",
       "4  Back To Nature Gluten Free White Cheddar Rice ...        2.61   \n",
       "\n",
       "     item_upc12    item_upc14  \n",
       "0   35200264013   35200264013  \n",
       "1   11111065925   11111065925  \n",
       "2   23923330139   23923330139  \n",
       "3  208528800007  208528800007  \n",
       "4  759283100036  759283100036  "
      ]
     },
     "execution_count": 65,
     "metadata": {},
     "output_type": "execute_result"
    }
   ],
   "source": [
    "items.head()"
   ]
  },
  {
   "cell_type": "code",
   "execution_count": 67,
   "id": "414fab35-fbd4-4518-b1d1-a112ddda1083",
   "metadata": {},
   "outputs": [
    {
     "data": {
      "text/plain": [
       "<bound method NDFrame.head of         index  item  sale_amount                      sale_date  sale_id  \\\n",
       "0           0     2         61.0  Sat, 07 Oct 2017 00:00:00 GMT    20001   \n",
       "1           1     2         60.0  Sun, 08 Oct 2017 00:00:00 GMT    20002   \n",
       "2           2     2         46.0  Mon, 09 Oct 2017 00:00:00 GMT    20003   \n",
       "3           3     2         52.0  Tue, 10 Oct 2017 00:00:00 GMT    20004   \n",
       "4           4     2         55.0  Wed, 11 Oct 2017 00:00:00 GMT    20005   \n",
       "...       ...   ...          ...                            ...      ...   \n",
       "909995   4995    50         70.0  Fri, 10 Oct 2014 00:00:00 GMT   909996   \n",
       "909996   4996    50         75.0  Sat, 11 Oct 2014 00:00:00 GMT   909997   \n",
       "909997   4997    50         69.0  Sun, 12 Oct 2014 00:00:00 GMT   909998   \n",
       "909998   4998    50         55.0  Mon, 13 Oct 2014 00:00:00 GMT   909999   \n",
       "909999   4999    50         69.0  Tue, 14 Oct 2014 00:00:00 GMT   910000   \n",
       "\n",
       "        store  level_0      item_brand  item_id  \\\n",
       "0           1      0.0        Riceland      1.0   \n",
       "1           1      1.0          Caress      2.0   \n",
       "2           1      2.0     Earths Best      3.0   \n",
       "3           1      3.0      Boars Head      4.0   \n",
       "4           1      4.0  Back To Nature      5.0   \n",
       "...       ...      ...             ...      ...   \n",
       "909995      9      NaN             NaN      NaN   \n",
       "909996      9      NaN             NaN      NaN   \n",
       "909997      9      NaN             NaN      NaN   \n",
       "909998      9      NaN             NaN      NaN   \n",
       "909999      9      NaN             NaN      NaN   \n",
       "\n",
       "                                                item_name  item_price  \\\n",
       "0                          Riceland American Jazmine Rice        0.84   \n",
       "1       Caress Velvet Bliss Ultra Silkening Beauty Bar...        6.44   \n",
       "2       Earths Best Organic Fruit Yogurt Smoothie Mixe...        2.43   \n",
       "3        Boars Head Sliced White American Cheese - 120 Ct        3.14   \n",
       "4       Back To Nature Gluten Free White Cheddar Rice ...        2.61   \n",
       "...                                                   ...         ...   \n",
       "909995                                                NaN         NaN   \n",
       "909996                                                NaN         NaN   \n",
       "909997                                                NaN         NaN   \n",
       "909998                                                NaN         NaN   \n",
       "909999                                                NaN         NaN   \n",
       "\n",
       "          item_upc12    item_upc14  \n",
       "0        35200264013   35200264013  \n",
       "1        11111065925   11111065925  \n",
       "2        23923330139   23923330139  \n",
       "3       208528800007  208528800007  \n",
       "4       759283100036  759283100036  \n",
       "...              ...           ...  \n",
       "909995           NaN           NaN  \n",
       "909996           NaN           NaN  \n",
       "909997           NaN           NaN  \n",
       "909998           NaN           NaN  \n",
       "909999           NaN           NaN  \n",
       "\n",
       "[910000 rows x 13 columns]>"
      ]
     },
     "execution_count": 67,
     "metadata": {},
     "output_type": "execute_result"
    }
   ],
   "source": [
    "df = sales.merge(items, how='left', on='index')\n",
    "df.head"
   ]
  },
  {
   "cell_type": "code",
   "execution_count": null,
   "id": "e8604d01-8282-410a-95ab-7ee313e64c08",
   "metadata": {},
   "outputs": [],
   "source": []
  },
  {
   "cell_type": "code",
   "execution_count": 35,
   "id": "e938dead-a77b-4eb7-9ecf-40f3f6e3cd64",
   "metadata": {},
   "outputs": [],
   "source": [
    "response = requests.get('https://raw.githubusercontent.com/jenfly/opsd/master/opsd_germany_daily.csv')"
   ]
  },
  {
   "cell_type": "code",
   "execution_count": 40,
   "id": "93cf0b55-1643-4b25-8a16-88a00bb56620",
   "metadata": {},
   "outputs": [],
   "source": [
    "data = response.text"
   ]
  },
  {
   "cell_type": "code",
   "execution_count": null,
   "id": "acce2d73-6d51-4508-9e7f-d84629a31ffa",
   "metadata": {},
   "outputs": [],
   "source": []
  }
 ],
 "metadata": {
  "kernelspec": {
   "display_name": "Python 3 (ipykernel)",
   "language": "python",
   "name": "python3"
  },
  "language_info": {
   "codemirror_mode": {
    "name": "ipython",
    "version": 3
   },
   "file_extension": ".py",
   "mimetype": "text/x-python",
   "name": "python",
   "nbconvert_exporter": "python",
   "pygments_lexer": "ipython3",
   "version": "3.9.12"
  }
 },
 "nbformat": 4,
 "nbformat_minor": 5
}
